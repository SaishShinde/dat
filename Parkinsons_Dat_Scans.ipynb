{
  "cells": [
    {
      "cell_type": "markdown",
      "metadata": {
        "id": "view-in-github",
        "colab_type": "text"
      },
      "source": [
        "<a href=\"https://colab.research.google.com/github/SaishShinde/dat/blob/main/Parkinsons_Dat_Scans.ipynb\" target=\"_parent\"><img src=\"https://colab.research.google.com/assets/colab-badge.svg\" alt=\"Open In Colab\"/></a>"
      ]
    },
    {
      "cell_type": "code",
      "execution_count": 5,
      "metadata": {
        "id": "NKzqiypzlNjr"
      },
      "outputs": [],
      "source": [
        "import os\n",
        "import matplotlib.pyplot as plt\n",
        "import numpy as np"
      ]
    },
    {
      "cell_type": "code",
      "execution_count": 6,
      "metadata": {
        "colab": {
          "base_uri": "https://localhost:8080/"
        },
        "id": "Oy9TOWfYxDsd",
        "outputId": "b2a1cc0b-4a73-47d6-9aff-b17443a129c6"
      },
      "outputs": [
        {
          "output_type": "stream",
          "name": "stdout",
          "text": [
            "Drive already mounted at /content/drive; to attempt to forcibly remount, call drive.mount(\"/content/drive\", force_remount=True).\n"
          ]
        }
      ],
      "source": [
        "from google.colab import drive\n",
        "drive.mount('/content/drive')"
      ]
    },
    {
      "cell_type": "code",
      "execution_count": 7,
      "metadata": {
        "id": "WSlVgRBFm3c4"
      },
      "outputs": [],
      "source": [
        "images = \"/content/drive/MyDrive/all_2d_train\"\n"
      ]
    },
    {
      "cell_type": "code",
      "execution_count": 8,
      "metadata": {
        "id": "6ogHOtUSnDal",
        "colab": {
          "base_uri": "https://localhost:8080/"
        },
        "outputId": "6b8fdc04-573a-461e-f94d-594350629d07"
      },
      "outputs": [
        {
          "output_type": "stream",
          "name": "stdout",
          "text": [
            "['PD', 'HC']\n"
          ]
        }
      ],
      "source": [
        "folders = os.listdir(images)\n",
        "print(folders)"
      ]
    },
    {
      "cell_type": "code",
      "execution_count": 9,
      "metadata": {
        "id": "nx0tQ4T3nIXf"
      },
      "outputs": [],
      "source": [
        "image_data= []\n",
        "labels = []"
      ]
    },
    {
      "cell_type": "code",
      "execution_count": 10,
      "metadata": {
        "id": "FovsHVVhnNGg"
      },
      "outputs": [],
      "source": [
        "label_dict = {\n",
        "    'HC':0,\n",
        "    'PD':1\n",
        "}"
      ]
    },
    {
      "cell_type": "code",
      "execution_count": 11,
      "metadata": {
        "id": "SRimm1MLnUQ4"
      },
      "outputs": [],
      "source": [
        "from keras.preprocessing import image\n",
        "\n",
        "for ix in folders:\n",
        "  path = os.path.join(images,ix)\n",
        "  for im in os.listdir(path):\n",
        "    img = image.load_img(os.path.join(path,im),target_size=((512,512)))\n",
        "    img_array = image.img_to_array(img)\n",
        "    image_data.append(img_array)\n",
        "    labels.append(label_dict[ix])"
      ]
    },
    {
      "cell_type": "code",
      "execution_count": 12,
      "metadata": {
        "id": "eyzJ-ZqznUcU",
        "colab": {
          "base_uri": "https://localhost:8080/"
        },
        "outputId": "d5d6bdf9-73a1-47a3-879f-7e319907306b"
      },
      "outputs": [
        {
          "output_type": "stream",
          "name": "stdout",
          "text": [
            "1097 1097\n"
          ]
        }
      ],
      "source": [
        "print(len(image_data),len(labels))"
      ]
    },
    {
      "cell_type": "code",
      "execution_count": 13,
      "metadata": {
        "id": "onsTBJERnkDf"
      },
      "outputs": [],
      "source": [
        "combined = list(zip(image_data,labels))\n",
        "image_data[:],labels[:] = zip(*combined)"
      ]
    },
    {
      "cell_type": "code",
      "execution_count": 14,
      "metadata": {
        "id": "VieB8qlknniO",
        "colab": {
          "base_uri": "https://localhost:8080/"
        },
        "outputId": "991aec70-f2ea-4dbb-c6ef-3033e5633f0e"
      },
      "outputs": [
        {
          "output_type": "stream",
          "name": "stdout",
          "text": [
            "[1, 1, 1, 1, 1, 1, 1, 1, 1, 1, 1, 1, 1, 1, 1, 1, 1, 1, 1, 1, 1, 1, 1, 1, 1, 1, 1, 1, 1, 1, 1, 1, 1, 1, 1, 1, 1, 1, 1, 1, 1, 1, 1, 1, 1, 1, 1, 1, 1, 1, 1, 1, 1, 1, 1, 1, 1, 1, 1, 1, 1, 1, 1, 1, 1, 1, 1, 1, 1, 1, 1, 1, 1, 1, 1, 1, 1, 1, 1, 1, 1, 1, 1, 1, 1, 1, 1, 1, 1, 1, 1, 1, 1, 1, 1, 1, 1, 1, 1, 1, 1, 1, 1, 1, 1, 1, 1, 1, 1, 1, 1, 1, 1, 1, 1, 1, 1, 1, 1, 1, 1, 1, 1, 1, 1, 1, 1, 1, 1, 1, 1, 1, 1, 1, 1, 1, 1, 1, 1, 1, 1, 1, 1, 1, 1, 1, 1, 1, 1, 1, 1, 1, 1, 1, 1, 1, 1, 1, 1, 1, 1, 1, 1, 1, 1, 1, 1, 1, 1, 1, 1, 1, 1, 1, 1, 1, 1, 1, 1, 1, 1, 1, 1, 1, 1, 1, 1, 1, 1, 1, 1, 1, 1, 1, 1, 1, 1, 1, 1, 1, 1, 1, 1, 1, 1, 1, 1, 1, 1, 1, 1, 1, 1, 1, 1, 1, 1, 1, 1, 1, 1, 1, 1, 1, 1, 1, 1, 1, 1, 1, 1, 1, 1, 1, 1, 1, 1, 1, 1, 1, 1, 1, 1, 1, 1, 1, 1, 1, 1, 1, 1, 1, 1, 1, 1, 1, 1, 1, 1, 1, 1, 1, 1, 1, 1, 1, 1, 1, 1, 1, 1, 1, 1, 1, 1, 1, 1, 1, 1, 1, 1, 1, 1, 1, 1, 1, 1, 1, 1, 1, 1, 1, 1, 1, 1, 1, 1, 1, 1, 1, 1, 1, 1, 1, 1, 1, 1, 1, 1, 1, 1, 1, 1, 1, 1, 1, 1, 1, 1, 1, 1, 1, 1, 1, 1, 1, 1, 1, 1, 1, 1, 1, 1, 1, 1, 1, 1, 1, 1, 1, 1, 1, 1, 1, 1, 1, 1, 1, 1, 1, 1, 1, 1, 1, 1, 1, 1, 1, 1, 1, 1, 1, 1, 1, 1, 1, 1, 1, 1, 1, 1, 1, 1, 1, 1, 1, 1, 1, 1, 1, 1, 1, 1, 1, 1, 1, 1, 1, 1, 1, 1, 1, 1, 1, 1, 1, 1, 1, 1, 1, 1, 1, 1, 1, 1, 1, 1, 1, 1, 1, 1, 1, 1, 1, 1, 1, 1, 1, 1, 1, 1, 1, 1, 1, 1, 1, 1, 1, 1, 1, 1, 1, 1, 1, 1, 1, 1, 1, 1, 1, 1, 1, 1, 1, 1, 1, 1, 1, 1, 1, 1, 1, 1, 1, 1, 1, 1, 1, 1, 1, 1, 1, 1, 1, 1, 1, 1, 1, 1, 1, 1, 1, 1, 1, 1, 1, 1, 1, 1, 1, 1, 1, 1, 1, 1, 1, 1, 1, 1, 1, 1, 1, 1, 1, 1, 1, 1, 1, 1, 1, 1, 1, 1, 1, 1, 1, 1, 1, 1, 1, 1, 1, 1, 1, 1, 1, 1, 1, 1, 1, 1, 1, 1, 1, 1, 1, 1, 1, 1, 1, 1, 1, 1, 1, 1, 1, 1, 1, 1, 1, 1, 1, 1, 1, 1, 1, 1, 1, 1, 1, 1, 1, 1, 1, 1, 1, 1, 1, 1, 1, 1, 1, 1, 1, 1, 1, 1, 1, 1, 1, 1, 1, 1, 1, 1, 1, 1, 1, 1, 1, 1, 1, 1, 1, 1, 1, 1, 1, 1, 1, 1, 1, 1, 1, 1, 1, 1, 1, 1, 1, 1, 1, 1, 1, 1, 1, 1, 1, 1, 1, 1, 1, 1, 1, 1, 1, 1, 1, 1, 1, 1, 1, 1, 1, 1, 1, 1, 1, 1, 1, 1, 1, 1, 1, 1, 1, 1, 1, 1, 1, 1, 1, 1, 1, 1, 1, 1, 1, 1, 1, 1, 1, 1, 1, 1, 1, 1, 1, 1, 1, 1, 1, 1, 1, 1, 1, 1, 1, 1, 1, 1, 1, 1, 1, 1, 1, 1, 1, 1, 1, 1, 1, 1, 1, 1, 1, 1, 1, 1, 1, 1, 1, 1, 1, 1, 1, 1, 1, 1, 1, 1, 1, 1, 1, 1, 1, 1, 1, 1, 1, 1, 1, 1, 1, 1, 1, 1, 1, 1, 1, 1, 1, 1, 1, 1, 1, 1, 1, 1, 1, 1, 1, 1, 1, 1, 1, 1, 1, 1, 1, 1, 1, 1, 1, 1, 0, 0, 0, 0, 0, 0, 0, 0, 0, 0, 0, 0, 0, 0, 0, 0, 0, 0, 0, 0, 0, 0, 0, 0, 0, 0, 0, 0, 0, 0, 0, 0, 0, 0, 0, 0, 0, 0, 0, 0, 0, 0, 0, 0, 0, 0, 0, 0, 0, 0, 0, 0, 0, 0, 0, 0, 0, 0, 0, 0, 0, 0, 0, 0, 0, 0, 0, 0, 0, 0, 0, 0, 0, 0, 0, 0, 0, 0, 0, 0, 0, 0, 0, 0, 0, 0, 0, 0, 0, 0, 0, 0, 0, 0, 0, 0, 0, 0, 0, 0, 0, 0, 0, 0, 0, 0, 0, 0, 0, 0, 0, 0, 0, 0, 0, 0, 0, 0, 0, 0, 0, 0, 0, 0, 0, 0, 0, 0, 0, 0, 0, 0, 0, 0, 0, 0, 0, 0, 0, 0, 0, 0, 0, 0, 0, 0, 0, 0, 0, 0, 0, 0, 0, 0, 0, 0, 0, 0, 0, 0, 0, 0, 0, 0, 0, 0, 0, 0, 0, 0, 0, 0, 0, 0, 0, 0, 0, 0, 0, 0, 0, 0, 0, 0, 0, 0, 0, 0, 0, 0, 0, 0, 0, 0, 0, 0, 0, 0, 0, 0, 0, 0, 0, 0, 0, 0, 0, 0, 0, 0, 0, 0, 0, 0, 0, 0, 0, 0, 0, 0, 0, 0, 0, 0, 0, 0, 0, 0, 0, 0, 0, 0, 0, 0, 0, 0, 0, 0, 0, 0, 0, 0, 0, 0, 0, 0, 0, 0, 0, 0, 0, 0, 0, 0, 0, 0, 0, 0, 0, 0, 0, 0, 0, 0, 0, 0, 0, 0, 0, 0, 0, 0, 0, 0, 0, 0, 0, 0, 0, 0, 0, 0, 0, 0, 0, 0, 0, 0, 0, 0, 0, 0, 0, 0, 0, 0, 0, 0, 0, 0, 0, 0, 0, 0, 0, 0, 0, 0, 0, 0, 0, 0, 0, 0, 0, 0, 0, 0, 0, 0, 0, 0, 0, 0, 0, 0, 0, 0, 0, 0, 0, 0, 0, 0, 0, 0, 0, 0, 0, 0, 0, 0, 0, 0, 0, 0, 0, 0, 0, 0, 0, 0]\n"
          ]
        }
      ],
      "source": [
        "print(labels)"
      ]
    },
    {
      "cell_type": "code",
      "execution_count": 15,
      "metadata": {
        "id": "057ZgFs8Au0f"
      },
      "outputs": [],
      "source": [
        "image1=[]\n",
        "label1=[]"
      ]
    },
    {
      "cell_type": "code",
      "execution_count": 16,
      "metadata": {
        "id": "2Ep0AZ-lnqlF",
        "colab": {
          "base_uri": "https://localhost:8080/"
        },
        "outputId": "0e278ab1-0f86-44b3-cfb5-57f26b457dc3"
      },
      "outputs": [
        {
          "output_type": "stream",
          "name": "stdout",
          "text": [
            "(1097, 512, 512, 3) (1097,)\n"
          ]
        }
      ],
      "source": [
        "x_train = np.array(image_data)\n",
        "y_train = np.array(labels)\n",
        "\n",
        "x_test = np.array(image1)\n",
        "y_test = np.array(label1)\n",
        "\n",
        "print(x_train.shape,y_train.shape)"
      ]
    },
    {
      "cell_type": "code",
      "execution_count": 17,
      "metadata": {
        "id": "awfEaKPKnul4",
        "colab": {
          "base_uri": "https://localhost:8080/"
        },
        "outputId": "d9028bdf-3031-4201-c89d-3ffe186aed1f"
      },
      "outputs": [
        {
          "output_type": "stream",
          "name": "stdout",
          "text": [
            "(1097, 512, 512, 3) (1097, 2)\n"
          ]
        }
      ],
      "source": [
        "from keras.utils import np_utils\n",
        "\n",
        "y_train = np_utils.to_categorical(y_train)\n",
        "print(x_train.shape,y_train.shape)"
      ]
    },
    {
      "cell_type": "code",
      "execution_count": 18,
      "metadata": {
        "id": "Tlr_YO1Hnyr7"
      },
      "outputs": [],
      "source": [
        "from keras.preprocessing.image import ImageDataGenerator"
      ]
    },
    {
      "cell_type": "code",
      "execution_count": 19,
      "metadata": {
        "id": "q-1C9NtJn2wM"
      },
      "outputs": [],
      "source": [
        "augment = ImageDataGenerator( \n",
        "                             rotation_range=20,\n",
        "                              width_shift_range=0.01, \n",
        "                              height_shift_range=0.01, \n",
        "                              horizontal_flip=False, \n",
        "                              vertical_flip=False,\n",
        "                            )\n",
        "augment.fit(x_train)"
      ]
    },
    {
      "cell_type": "code",
      "execution_count": 20,
      "metadata": {
        "id": "y50qFx8dn8QU"
      },
      "outputs": [],
      "source": [
        "from tensorflow.keras.optimizers import Adam\n",
        "from tensorflow.keras.layers import *\n",
        "from tensorflow.keras.models import Sequential\n",
        "from tensorflow.keras.callbacks import ModelCheckpoint\n",
        "from tensorflow.keras.regularizers import l2\n",
        "\n",
        "import numpy as np\n",
        "import cv2\n",
        "from tensorflow.keras.layers import Input, Conv2D, BatchNormalization, Dropout, Flatten, Dense, MaxPool2D\n",
        "from tensorflow.keras.models import Model, Sequential\n",
        "from tensorflow.keras.initializers import glorot_uniform\n",
        "from tensorflow.keras.optimizers import Adam, SGD\n",
        "import matplotlib.pyplot as plt\n",
        "from sklearn.metrics import classification_report\n",
        "from tensorflow.keras.preprocessing.image import ImageDataGenerator\n",
        "from sklearn.model_selection import train_test_split\n",
        "from tensorflow.keras.utils import to_categorical\n",
        "from sklearn.preprocessing import LabelEncoder\n",
        "from sklearn.metrics import classification_report, confusion_matrix\n",
        "import seaborn as sns\n",
        "from tensorflow.keras.regularizers import l2\n",
        "import tensorflow as tf\n",
        "import pandas as pd"
      ]
    },
    {
      "cell_type": "code",
      "execution_count": 21,
      "metadata": {
        "id": "FC5g1ku0oBpB"
      },
      "outputs": [],
      "source": [
        "model = Sequential()\n",
        "\n",
        "\n",
        "model.add(Conv2D(filters=16, kernel_size=(3,3),input_shape=(512,512,3), activation='relu',kernel_regularizer=l2(0.01)))\n",
        "model.add(MaxPool2D(pool_size=(2, 2)))\n",
        "\n",
        "model.add(Conv2D(filters=32, kernel_size=(3,3),input_shape=(512,512,3), activation='relu',kernel_regularizer=l2(0.01)))\n",
        "model.add(MaxPool2D(pool_size=(2, 2)))\n",
        "\n",
        "model.add(Conv2D(filters=64, kernel_size=(3,3),input_shape=(512,512,3), activation='relu',kernel_regularizer=l2(0.01)))\n",
        "model.add(MaxPool2D(pool_size=(2, 2)))\n",
        "\n",
        "model.add(Conv2D(filters=64, kernel_size=(3,3),input_shape=(512,512,3), activation='relu',kernel_regularizer=l2(0.01)))\n",
        "model.add(MaxPool2D(pool_size=(2, 2)))\n",
        "\n",
        "model.add(Conv2D(filters=128, kernel_size=(3,3),input_shape=(512,512,3), activation='relu',kernel_regularizer=l2(0.01)))\n",
        "model.add(MaxPool2D(pool_size=(2, 2)))\n",
        "\n",
        "model.add(Conv2D(filters=128, kernel_size=(3,3),input_shape=(512,512,3), activation='relu',kernel_regularizer=l2(0.01)))\n",
        "model.add(MaxPool2D(pool_size=(2, 2)))\n",
        "\n",
        "model.add(Flatten())\n",
        "\n",
        "model.add(Dense(224))\n",
        "model.add(Activation('relu'))\n",
        "\n",
        "model.add(Dropout(0.5))\n",
        "\n",
        "model.add(Dense(2))\n",
        "model.add(Activation('sigmoid'))\n",
        "\n",
        "model.compile(loss='binary_crossentropy',\n",
        "              optimizer='adam',\n",
        "              metrics=['accuracy'])\n",
        "filepath=\"parkinsons_detection_DAT.hdf5\"\n",
        "checkpoint = ModelCheckpoint(filepath, monitor='val_loss', verbose=2, save_best_only=True, mode='min',patience=3)\n",
        "callbacks_list = [checkpoint]"
      ]
    },
    {
      "cell_type": "code",
      "execution_count": 22,
      "metadata": {
        "id": "nZDjYitNoI5c",
        "colab": {
          "base_uri": "https://localhost:8080/"
        },
        "outputId": "90211521-a3a0-4f62-e7a2-aa5f84caeff9"
      },
      "outputs": [
        {
          "output_type": "stream",
          "name": "stdout",
          "text": [
            "Model: \"sequential\"\n",
            "_________________________________________________________________\n",
            " Layer (type)                Output Shape              Param #   \n",
            "=================================================================\n",
            " conv2d (Conv2D)             (None, 510, 510, 16)      448       \n",
            "                                                                 \n",
            " max_pooling2d (MaxPooling2D  (None, 255, 255, 16)     0         \n",
            " )                                                               \n",
            "                                                                 \n",
            " conv2d_1 (Conv2D)           (None, 253, 253, 32)      4640      \n",
            "                                                                 \n",
            " max_pooling2d_1 (MaxPooling  (None, 126, 126, 32)     0         \n",
            " 2D)                                                             \n",
            "                                                                 \n",
            " conv2d_2 (Conv2D)           (None, 124, 124, 64)      18496     \n",
            "                                                                 \n",
            " max_pooling2d_2 (MaxPooling  (None, 62, 62, 64)       0         \n",
            " 2D)                                                             \n",
            "                                                                 \n",
            " conv2d_3 (Conv2D)           (None, 60, 60, 64)        36928     \n",
            "                                                                 \n",
            " max_pooling2d_3 (MaxPooling  (None, 30, 30, 64)       0         \n",
            " 2D)                                                             \n",
            "                                                                 \n",
            " conv2d_4 (Conv2D)           (None, 28, 28, 128)       73856     \n",
            "                                                                 \n",
            " max_pooling2d_4 (MaxPooling  (None, 14, 14, 128)      0         \n",
            " 2D)                                                             \n",
            "                                                                 \n",
            " conv2d_5 (Conv2D)           (None, 12, 12, 128)       147584    \n",
            "                                                                 \n",
            " max_pooling2d_5 (MaxPooling  (None, 6, 6, 128)        0         \n",
            " 2D)                                                             \n",
            "                                                                 \n",
            " flatten (Flatten)           (None, 4608)              0         \n",
            "                                                                 \n",
            " dense (Dense)               (None, 224)               1032416   \n",
            "                                                                 \n",
            " activation (Activation)     (None, 224)               0         \n",
            "                                                                 \n",
            " dropout (Dropout)           (None, 224)               0         \n",
            "                                                                 \n",
            " dense_1 (Dense)             (None, 2)                 450       \n",
            "                                                                 \n",
            " activation_1 (Activation)   (None, 2)                 0         \n",
            "                                                                 \n",
            "=================================================================\n",
            "Total params: 1,314,818\n",
            "Trainable params: 1,314,818\n",
            "Non-trainable params: 0\n",
            "_________________________________________________________________\n"
          ]
        }
      ],
      "source": [
        "model.summary()"
      ]
    },
    {
      "cell_type": "code",
      "execution_count": 23,
      "metadata": {
        "id": "J3t_3KtCELCH",
        "colab": {
          "base_uri": "https://localhost:8080/"
        },
        "outputId": "849b3be4-2c5a-449d-f873-c92e1c6c73c0"
      },
      "outputs": [
        {
          "output_type": "stream",
          "name": "stdout",
          "text": [
            "Epoch 1/10\n",
            "31/31 [==============================] - ETA: 0s - loss: 3.0345 - accuracy: 0.7538\n",
            "Epoch 00001: val_loss improved from inf to 2.13878, saving model to parkinsons_detection_DAT.hdf5\n",
            "31/31 [==============================] - 243s 8s/step - loss: 3.0345 - accuracy: 0.7538 - val_loss: 2.1388 - val_accuracy: 0.6364\n",
            "Epoch 2/10\n",
            "31/31 [==============================] - ETA: 0s - loss: 1.5897 - accuracy: 0.8723\n",
            "Epoch 00002: val_loss improved from 2.13878 to 1.58717, saving model to parkinsons_detection_DAT.hdf5\n",
            "31/31 [==============================] - 238s 8s/step - loss: 1.5897 - accuracy: 0.8723 - val_loss: 1.5872 - val_accuracy: 0.6727\n",
            "Epoch 3/10\n",
            "31/31 [==============================] - ETA: 0s - loss: 1.0459 - accuracy: 0.9473\n",
            "Epoch 00003: val_loss improved from 1.58717 to 1.58389, saving model to parkinsons_detection_DAT.hdf5\n",
            "31/31 [==============================] - 240s 8s/step - loss: 1.0459 - accuracy: 0.9473 - val_loss: 1.5839 - val_accuracy: 0.6091\n",
            "Epoch 4/10\n",
            "31/31 [==============================] - ETA: 0s - loss: 0.8874 - accuracy: 0.9473\n",
            "Epoch 00004: val_loss improved from 1.58389 to 0.82831, saving model to parkinsons_detection_DAT.hdf5\n",
            "31/31 [==============================] - 239s 8s/step - loss: 0.8874 - accuracy: 0.9473 - val_loss: 0.8283 - val_accuracy: 0.9636\n",
            "Epoch 5/10\n",
            "31/31 [==============================] - ETA: 0s - loss: 0.7719 - accuracy: 0.9392\n",
            "Epoch 00005: val_loss improved from 0.82831 to 0.58345, saving model to parkinsons_detection_DAT.hdf5\n",
            "31/31 [==============================] - 239s 8s/step - loss: 0.7719 - accuracy: 0.9392 - val_loss: 0.5834 - val_accuracy: 0.9909\n",
            "Epoch 6/10\n",
            "31/31 [==============================] - ETA: 0s - loss: 0.6808 - accuracy: 0.9392\n",
            "Epoch 00006: val_loss did not improve from 0.58345\n",
            "31/31 [==============================] - 239s 8s/step - loss: 0.6808 - accuracy: 0.9392 - val_loss: 0.7141 - val_accuracy: 0.9091\n",
            "Epoch 7/10\n",
            "31/31 [==============================] - ETA: 0s - loss: 0.5748 - accuracy: 0.9534\n",
            "Epoch 00007: val_loss did not improve from 0.58345\n",
            "31/31 [==============================] - 239s 8s/step - loss: 0.5748 - accuracy: 0.9534 - val_loss: 0.6658 - val_accuracy: 0.8909\n",
            "Epoch 8/10\n",
            "31/31 [==============================] - ETA: 0s - loss: 0.4833 - accuracy: 0.9706\n",
            "Epoch 00008: val_loss improved from 0.58345 to 0.49513, saving model to parkinsons_detection_DAT.hdf5\n",
            "31/31 [==============================] - 239s 8s/step - loss: 0.4833 - accuracy: 0.9706 - val_loss: 0.4951 - val_accuracy: 0.9636\n",
            "Epoch 9/10\n",
            "31/31 [==============================] - ETA: 0s - loss: 0.4584 - accuracy: 0.9666\n",
            "Epoch 00009: val_loss improved from 0.49513 to 0.44929, saving model to parkinsons_detection_DAT.hdf5\n",
            "31/31 [==============================] - 238s 8s/step - loss: 0.4584 - accuracy: 0.9666 - val_loss: 0.4493 - val_accuracy: 0.9636\n",
            "Epoch 10/10\n",
            "31/31 [==============================] - ETA: 0s - loss: 0.4009 - accuracy: 0.9676\n",
            "Epoch 00010: val_loss improved from 0.44929 to 0.35141, saving model to parkinsons_detection_DAT.hdf5\n",
            "31/31 [==============================] - 238s 8s/step - loss: 0.4009 - accuracy: 0.9676 - val_loss: 0.3514 - val_accuracy: 0.9636\n"
          ]
        }
      ],
      "source": [
        "hist = model.fit(x_train,y_train,\n",
        "                    shuffle = True,\n",
        "                    batch_size=32, epochs=10,\n",
        "                    validation_split = 0.10,callbacks=callbacks_list)"
      ]
    },
    {
      "cell_type": "code",
      "execution_count": 24,
      "metadata": {
        "id": "2uRgRhujATVG",
        "colab": {
          "base_uri": "https://localhost:8080/"
        },
        "outputId": "37c6da91-2350-453f-fac3-1ac0e8bf3fba"
      },
      "outputs": [
        {
          "output_type": "stream",
          "name": "stdout",
          "text": [
            "['PD', 'HC']\n",
            "(193, 512, 512, 3) (193, 2)\n"
          ]
        }
      ],
      "source": [
        "test_images = \"/content/drive/MyDrive/all_2d_val\"\n",
        "\n",
        "test_image_data = []\n",
        "test_labels = []\n",
        "\n",
        "test_folders = os.listdir(test_images)\n",
        "print(test_folders)\n",
        "\n",
        "label_dict = {\n",
        "    'HC':0,\n",
        "    'PD':1\n",
        "}\n",
        "\n",
        "from keras.preprocessing import image\n",
        "\n",
        "for ix in test_folders:\n",
        "    path = os.path.join(test_images,ix)\n",
        "    for im in os.listdir(path):\n",
        "        img = image.load_img(os.path.join(path,im),target_size = ((512,512)))\n",
        "        img_array = image.img_to_array(img)\n",
        "        test_image_data.append(img_array)\n",
        "        test_labels.append(label_dict[ix])\n",
        "        \n",
        "\n",
        "combined = list(zip(test_image_data,test_labels))\n",
        "test_image_data[:],test_labels[:] = zip(*combined)\n",
        "\n",
        "x_test = np.array(test_image_data)\n",
        "y_test = np.array(test_labels)\n",
        "\n",
        "from keras.utils import np_utils\n",
        "\n",
        "y_test = np_utils.to_categorical(y_test)\n",
        "print(x_test.shape,y_test.shape)\n",
        "    "
      ]
    },
    {
      "cell_type": "code",
      "execution_count": 25,
      "metadata": {
        "id": "m3LzRgcVA07C",
        "colab": {
          "base_uri": "https://localhost:8080/"
        },
        "outputId": "218ae4dd-6dc1-4ef9-87da-1c489d810994"
      },
      "outputs": [
        {
          "output_type": "stream",
          "name": "stdout",
          "text": [
            "7/7 [==============================] - 20s 3s/step - loss: 0.3416 - accuracy: 0.9741\n"
          ]
        },
        {
          "output_type": "execute_result",
          "data": {
            "text/plain": [
              "[0.3415660560131073, 0.9740932583808899]"
            ]
          },
          "metadata": {},
          "execution_count": 25
        }
      ],
      "source": [
        "model.evaluate(x_test,y_test)"
      ]
    },
    {
      "cell_type": "code",
      "execution_count": 26,
      "metadata": {
        "id": "Md3giO_hA75x"
      },
      "outputs": [],
      "source": [
        "from sklearn.metrics import classification_report,confusion_matrix"
      ]
    },
    {
      "cell_type": "code",
      "execution_count": 27,
      "metadata": {
        "id": "z8QNYCl3BAlE"
      },
      "outputs": [],
      "source": [
        "predictions = model.predict(x_test, batch_size = 32)\n",
        "pred = np.argmax(predictions, axis=1)"
      ]
    },
    {
      "cell_type": "code",
      "execution_count": 28,
      "metadata": {
        "id": "LNtr81tQBCr2",
        "colab": {
          "base_uri": "https://localhost:8080/"
        },
        "outputId": "21985284-a8f4-4ce3-e19b-f7cfa9311b96"
      },
      "outputs": [
        {
          "output_type": "stream",
          "name": "stdout",
          "text": [
            "              precision    recall  f1-score   support\n",
            "\n",
            "           0       0.94      0.98      0.96        62\n",
            "           1       0.99      0.97      0.98       131\n",
            "\n",
            "    accuracy                           0.97       193\n",
            "   macro avg       0.97      0.98      0.97       193\n",
            "weighted avg       0.97      0.97      0.97       193\n",
            "\n"
          ]
        }
      ],
      "source": [
        "print(classification_report(test_labels, pred))"
      ]
    },
    {
      "cell_type": "code",
      "execution_count": 29,
      "metadata": {
        "id": "Kic_nrStBL5q",
        "colab": {
          "base_uri": "https://localhost:8080/"
        },
        "outputId": "866d72f6-41ea-4d59-aa47-fabe05ad50af"
      },
      "outputs": [
        {
          "output_type": "stream",
          "name": "stdout",
          "text": [
            "[[ 61   1]\n",
            " [  4 127]]\n"
          ]
        }
      ],
      "source": [
        "print(confusion_matrix(test_labels, pred))"
      ]
    },
    {
      "cell_type": "code",
      "source": [
        "labels = ['Healthy', 'Parkinson']\n",
        "import numpy as np\n",
        "from tensorflow.keras.preprocessing import image\n",
        "test_image = image.load_img('/content/hc1.png', target_size = (512,512,3))\n",
        "test_image = image.img_to_array(test_image)\n",
        "test_image = np.expand_dims(test_image, axis=0)\n",
        "test_image = np.expand_dims(test_image, axis=-1)\n",
        "\n",
        "result = model.predict(test_image)\n",
        "result"
      ],
      "metadata": {
        "colab": {
          "base_uri": "https://localhost:8080/"
        },
        "id": "xxTwOCDmR6vn",
        "outputId": "6a29890a-e2b9-4034-d7e7-ed385296f04a"
      },
      "execution_count": 89,
      "outputs": [
        {
          "output_type": "execute_result",
          "data": {
            "text/plain": [
              "array([[0.99604726, 0.00477815]], dtype=float32)"
            ]
          },
          "metadata": {},
          "execution_count": 89
        }
      ]
    },
    {
      "cell_type": "code",
      "source": [
        "figure = plt.figure(figsize=(2, 2))\n",
        "t_image = np.squeeze(test_image, axis=0)\n",
        "t_image = np.squeeze(t_image, axis=-1)\n",
        "plt.imshow(t_image)\n",
        "plt.axis('off')\n",
        "plt.title(f'Prediction by the model: {labels[np.argmax(result[0], axis=0)]}')\n",
        "plt.show()"
      ],
      "metadata": {
        "colab": {
          "base_uri": "https://localhost:8080/",
          "height": 174
        },
        "id": "NGpIa3CUXKB1",
        "outputId": "0709a4b2-84a6-432e-9f0f-5d2156e43758"
      },
      "execution_count": 90,
      "outputs": [
        {
          "output_type": "stream",
          "name": "stderr",
          "text": [
            "Clipping input data to the valid range for imshow with RGB data ([0..1] for floats or [0..255] for integers).\n"
          ]
        },
        {
          "output_type": "display_data",
          "data": {
            "image/png": "[encoded data removed]",
            "text/plain": [
              "<Figure size 144x144 with 1 Axes>"
            ]
          },
          "metadata": {
            "needs_background": "light"
          }
        }
      ]
    },
    {
      "cell_type": "code",
      "source": [
        "labels = ['Healthy', 'Parkinson']\n",
        "import numpy as np\n",
        "from tensorflow.keras.preprocessing import image\n",
        "test_image = image.load_img('/content/pd1.png', target_size = (512,512,3))\n",
        "test_image = image.img_to_array(test_image)\n",
        "test_image = np.expand_dims(test_image, axis=0)\n",
        "test_image = np.expand_dims(test_image, axis=-1)\n",
        "\n",
        "result = model.predict(test_image)\n",
        "result"
      ],
      "metadata": {
        "colab": {
          "base_uri": "https://localhost:8080/"
        },
        "id": "mj1nSq5lZHxm",
        "outputId": "77fce3b4-b650-4465-cfbf-695cc7385d3f"
      },
      "execution_count": 91,
      "outputs": [
        {
          "output_type": "execute_result",
          "data": {
            "text/plain": [
              "array([[0.00220805, 0.9991226 ]], dtype=float32)"
            ]
          },
          "metadata": {},
          "execution_count": 91
        }
      ]
    },
    {
      "cell_type": "code",
      "source": [
        "figure = plt.figure(figsize=(2, 2))\n",
        "t_image = np.squeeze(test_image, axis=0)\n",
        "t_image = np.squeeze(t_image, axis=-1)\n",
        "plt.imshow(t_image)\n",
        "plt.axis('off')\n",
        "plt.title(f'Prediction by the model: {labels[np.argmax(result[0], axis=0)]}')\n",
        "plt.show()"
      ],
      "metadata": {
        "colab": {
          "base_uri": "https://localhost:8080/",
          "height": 174
        },
        "id": "SL4tvs6iZKck",
        "outputId": "117f2788-d42d-4666-d1d4-00c3dd1e8281"
      },
      "execution_count": 92,
      "outputs": [
        {
          "output_type": "stream",
          "name": "stderr",
          "text": [
            "Clipping input data to the valid range for imshow with RGB data ([0..1] for floats or [0..255] for integers).\n"
          ]
        },
        {
          "output_type": "display_data",
          "data": {
            "image/png": "[encoded data removed]",
            "text/plain": [
              "<Figure size 144x144 with 1 Axes>"
            ]
          },
          "metadata": {
            "needs_background": "light"
          }
        }
      ]
    }
  ],
  "metadata": {
    "colab": {
      "name": "Parkinsons_Dat_Scans.ipynb",
      "provenance": [],
      "include_colab_link": true
    },
    "kernelspec": {
      "display_name": "Python 3",
      "language": "python",
      "name": "python3"
    },
    "language_info": {
      "codemirror_mode": {
        "name": "ipython",
        "version": 3
      },
      "file_extension": ".py",
      "mimetype": "text/x-python",
      "name": "python",
      "nbconvert_exporter": "python",
      "pygments_lexer": "ipython3",
      "version": "3.7.6"
    }
  },
  "nbformat": 4,
  "nbformat_minor": 0
}